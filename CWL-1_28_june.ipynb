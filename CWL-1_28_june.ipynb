{
 "cells": [
  {
   "cell_type": "code",
   "execution_count": 3,
   "id": "156080dd",
   "metadata": {},
   "outputs": [],
   "source": [
    "a=2"
   ]
  },
  {
   "cell_type": "code",
   "execution_count": 4,
   "id": "987ab54e",
   "metadata": {},
   "outputs": [
    {
     "data": {
      "text/plain": [
       "int"
      ]
     },
     "execution_count": 4,
     "metadata": {},
     "output_type": "execute_result"
    }
   ],
   "source": [
    "type(a)"
   ]
  },
  {
   "cell_type": "code",
   "execution_count": 5,
   "id": "a8943b31",
   "metadata": {},
   "outputs": [
    {
     "data": {
      "text/plain": [
       "4.2"
      ]
     },
     "execution_count": 5,
     "metadata": {},
     "output_type": "execute_result"
    }
   ],
   "source": [
    "b=4.2\n",
    "float(b)"
   ]
  },
  {
   "cell_type": "code",
   "execution_count": 6,
   "id": "fcdf16ae",
   "metadata": {},
   "outputs": [
    {
     "data": {
      "text/plain": [
       "str"
      ]
     },
     "execution_count": 6,
     "metadata": {},
     "output_type": "execute_result"
    }
   ],
   "source": [
    "c=\"c\"\n",
    "type(c)"
   ]
  },
  {
   "cell_type": "markdown",
   "id": "5554b3f8",
   "metadata": {},
   "source": [
    "## Intros\n",
    "tuples : cant be changes once created \n",
    "\n",
    "Lists : can be changed, order is important\n",
    "\n",
    "Dictonaries : set of elements each element has (key, value) \n",
    "              key of a Dictonary is more imp than value\n",
    "              \n",
    "Dictonaries are unorder sets"
   ]
  },
  {
   "cell_type": "code",
   "execution_count": 8,
   "id": "a38b142b",
   "metadata": {},
   "outputs": [],
   "source": [
    "t1=(\"a\", 1, 1.2)"
   ]
  },
  {
   "cell_type": "code",
   "execution_count": 9,
   "id": "979c04c3",
   "metadata": {},
   "outputs": [],
   "source": [
    "t2=(\"b\", 2, 4.6)"
   ]
  },
  {
   "cell_type": "code",
   "execution_count": 13,
   "id": "62782766",
   "metadata": {},
   "outputs": [
    {
     "name": "stdout",
     "output_type": "stream",
     "text": [
      "('a', 1, 1.2, 'b', 2, 4.6)\n"
     ]
    },
    {
     "data": {
      "text/plain": [
       "tuple"
      ]
     },
     "execution_count": 13,
     "metadata": {},
     "output_type": "execute_result"
    }
   ],
   "source": [
    "print(t1+t2)\n",
    "type(t1+t2)"
   ]
  },
  {
   "cell_type": "code",
   "execution_count": 14,
   "id": "f2f67f2e",
   "metadata": {},
   "outputs": [
    {
     "data": {
      "text/plain": [
       "3"
      ]
     },
     "execution_count": 14,
     "metadata": {},
     "output_type": "execute_result"
    }
   ],
   "source": [
    "len(t1)"
   ]
  },
  {
   "cell_type": "code",
   "execution_count": 15,
   "id": "ef175d87",
   "metadata": {},
   "outputs": [
    {
     "name": "stdout",
     "output_type": "stream",
     "text": [
      "index =  0  ;stored =  a ; type = <class 'str'>\n",
      "index =  1  ;stored =  1 ; type = <class 'int'>\n",
      "index =  2  ;stored =  1.2 ; type = <class 'float'>\n"
     ]
    }
   ],
   "source": [
    "for i in range(len(t1)):\n",
    "    print(\"index = \",i,\" ;stored = \", t1[i], \"; type =\", type(t1[i]))"
   ]
  },
  {
   "cell_type": "code",
   "execution_count": 16,
   "id": "81ddd3fe",
   "metadata": {},
   "outputs": [],
   "source": [
    "?range"
   ]
  },
  {
   "cell_type": "code",
   "execution_count": 17,
   "id": "c6e7d587",
   "metadata": {},
   "outputs": [
    {
     "data": {
      "text/plain": [
       "[0, 1, 2]"
      ]
     },
     "execution_count": 17,
     "metadata": {},
     "output_type": "execute_result"
    }
   ],
   "source": [
    "list(range(3))"
   ]
  },
  {
   "cell_type": "code",
   "execution_count": 18,
   "id": "9ffd629e",
   "metadata": {},
   "outputs": [
    {
     "name": "stdout",
     "output_type": "stream",
     "text": [
      "index =  0  ;stored =  a ; type = <class 'str'>\n",
      "index =  1  ;stored =  1 ; type = <class 'int'>\n",
      "index =  2  ;stored =  1.2 ; type = <class 'float'>\n"
     ]
    }
   ],
   "source": [
    "for i in range(3):\n",
    "    print(\"index = \",i,\" ;stored = \", t1[i], \"; type =\", type(t1[i]))"
   ]
  },
  {
   "cell_type": "code",
   "execution_count": 20,
   "id": "88eede39",
   "metadata": {},
   "outputs": [
    {
     "data": {
      "text/plain": [
       "'a'"
      ]
     },
     "execution_count": 20,
     "metadata": {},
     "output_type": "execute_result"
    }
   ],
   "source": [
    "t1[0]"
   ]
  },
  {
   "cell_type": "code",
   "execution_count": 22,
   "id": "e1627ada",
   "metadata": {},
   "outputs": [
    {
     "data": {
      "text/plain": [
       "tuple"
      ]
     },
     "execution_count": 22,
     "metadata": {},
     "output_type": "execute_result"
    }
   ],
   "source": [
    "type(t1)"
   ]
  },
  {
   "cell_type": "code",
   "execution_count": 23,
   "id": "a61fec36",
   "metadata": {},
   "outputs": [
    {
     "ename": "TypeError",
     "evalue": "'tuple' object does not support item assignment",
     "output_type": "error",
     "traceback": [
      "\u001b[1;31m---------------------------------------------------------------------------\u001b[0m",
      "\u001b[1;31mTypeError\u001b[0m                                 Traceback (most recent call last)",
      "\u001b[1;32m<ipython-input-23-85c790c9f721>\u001b[0m in \u001b[0;36m<module>\u001b[1;34m\u001b[0m\n\u001b[1;32m----> 1\u001b[1;33m \u001b[0mt1\u001b[0m\u001b[1;33m[\u001b[0m\u001b[1;36m0\u001b[0m\u001b[1;33m]\u001b[0m\u001b[1;33m=\u001b[0m\u001b[1;34m\"b\"\u001b[0m\u001b[1;33m\u001b[0m\u001b[1;33m\u001b[0m\u001b[0m\n\u001b[0m",
      "\u001b[1;31mTypeError\u001b[0m: 'tuple' object does not support item assignment"
     ]
    }
   ],
   "source": [
    "t1[0]=\"b\""
   ]
  },
  {
   "cell_type": "code",
   "execution_count": 24,
   "id": "e072e33b",
   "metadata": {},
   "outputs": [],
   "source": [
    "l1=[0, 'a', 2.2]"
   ]
  },
  {
   "cell_type": "code",
   "execution_count": 25,
   "id": "071edf0a",
   "metadata": {},
   "outputs": [
    {
     "data": {
      "text/plain": [
       "0"
      ]
     },
     "execution_count": 25,
     "metadata": {},
     "output_type": "execute_result"
    }
   ],
   "source": [
    "l1[0]"
   ]
  },
  {
   "cell_type": "code",
   "execution_count": 26,
   "id": "47a4ee13",
   "metadata": {},
   "outputs": [
    {
     "data": {
      "text/plain": [
       "3"
      ]
     },
     "execution_count": 26,
     "metadata": {},
     "output_type": "execute_result"
    }
   ],
   "source": [
    "len(l1)"
   ]
  },
  {
   "cell_type": "code",
   "execution_count": 27,
   "id": "70483df2",
   "metadata": {},
   "outputs": [
    {
     "ename": "TypeError",
     "evalue": "'list' object is not callable",
     "output_type": "error",
     "traceback": [
      "\u001b[1;31m---------------------------------------------------------------------------\u001b[0m",
      "\u001b[1;31mTypeError\u001b[0m                                 Traceback (most recent call last)",
      "\u001b[1;32m<ipython-input-27-b99b850819dd>\u001b[0m in \u001b[0;36m<module>\u001b[1;34m\u001b[0m\n\u001b[1;32m----> 1\u001b[1;33m \u001b[0ml1\u001b[0m\u001b[1;33m(\u001b[0m\u001b[1;36m4\u001b[0m\u001b[1;33m)\u001b[0m\u001b[1;33m\u001b[0m\u001b[1;33m\u001b[0m\u001b[0m\n\u001b[0m",
      "\u001b[1;31mTypeError\u001b[0m: 'list' object is not callable"
     ]
    }
   ],
   "source": [
    "l1(4)"
   ]
  },
  {
   "cell_type": "code",
   "execution_count": 28,
   "id": "6f362fa5",
   "metadata": {},
   "outputs": [
    {
     "data": {
      "text/plain": [
       "[0, 'a', 2.2]"
      ]
     },
     "execution_count": 28,
     "metadata": {},
     "output_type": "execute_result"
    }
   ],
   "source": [
    "l1"
   ]
  },
  {
   "cell_type": "code",
   "execution_count": 29,
   "id": "bbc83112",
   "metadata": {},
   "outputs": [
    {
     "data": {
      "text/plain": [
       "2.2"
      ]
     },
     "execution_count": 29,
     "metadata": {},
     "output_type": "execute_result"
    }
   ],
   "source": [
    "l1[2]"
   ]
  },
  {
   "cell_type": "code",
   "execution_count": 30,
   "id": "318619e1",
   "metadata": {},
   "outputs": [],
   "source": [
    "l1[2]=2.25"
   ]
  },
  {
   "cell_type": "code",
   "execution_count": 31,
   "id": "0e31c458",
   "metadata": {},
   "outputs": [
    {
     "data": {
      "text/plain": [
       "2.25"
      ]
     },
     "execution_count": 31,
     "metadata": {},
     "output_type": "execute_result"
    }
   ],
   "source": [
    "l1[2]"
   ]
  },
  {
   "cell_type": "code",
   "execution_count": 32,
   "id": "00a2c776",
   "metadata": {},
   "outputs": [
    {
     "data": {
      "text/plain": [
       "list"
      ]
     },
     "execution_count": 32,
     "metadata": {},
     "output_type": "execute_result"
    }
   ],
   "source": [
    "type(l1)"
   ]
  },
  {
   "cell_type": "code",
   "execution_count": 33,
   "id": "cf356548",
   "metadata": {},
   "outputs": [
    {
     "data": {
      "text/plain": [
       "1"
      ]
     },
     "execution_count": 33,
     "metadata": {},
     "output_type": "execute_result"
    }
   ],
   "source": [
    "l1.count('a')"
   ]
  },
  {
   "cell_type": "code",
   "execution_count": 34,
   "id": "f07c79af",
   "metadata": {},
   "outputs": [
    {
     "data": {
      "text/plain": [
       "[0, 'a', 2.25]"
      ]
     },
     "execution_count": 34,
     "metadata": {},
     "output_type": "execute_result"
    }
   ],
   "source": [
    "l1"
   ]
  },
  {
   "cell_type": "code",
   "execution_count": 36,
   "id": "67389f31",
   "metadata": {},
   "outputs": [
    {
     "data": {
      "text/plain": [
       "0"
      ]
     },
     "execution_count": 36,
     "metadata": {},
     "output_type": "execute_result"
    }
   ],
   "source": [
    "l1.count('b')"
   ]
  },
  {
   "cell_type": "code",
   "execution_count": 37,
   "id": "57fae6c5",
   "metadata": {},
   "outputs": [],
   "source": [
    "?l1.insert"
   ]
  },
  {
   "cell_type": "code",
   "execution_count": 38,
   "id": "4818980c",
   "metadata": {},
   "outputs": [],
   "source": [
    "l1.insert(2, 1.1)"
   ]
  },
  {
   "cell_type": "code",
   "execution_count": 39,
   "id": "b987f4d4",
   "metadata": {},
   "outputs": [
    {
     "data": {
      "text/plain": [
       "[0, 'a', 1.1, 2.25]"
      ]
     },
     "execution_count": 39,
     "metadata": {},
     "output_type": "execute_result"
    }
   ],
   "source": [
    "l1"
   ]
  },
  {
   "cell_type": "code",
   "execution_count": 42,
   "id": "c815af5a",
   "metadata": {},
   "outputs": [
    {
     "data": {
      "text/plain": [
       "0"
      ]
     },
     "execution_count": 42,
     "metadata": {},
     "output_type": "execute_result"
    }
   ],
   "source": [
    "l1[0]"
   ]
  },
  {
   "cell_type": "code",
   "execution_count": 43,
   "id": "9ad81cef",
   "metadata": {},
   "outputs": [],
   "source": [
    "l1[0] += 1"
   ]
  },
  {
   "cell_type": "code",
   "execution_count": 44,
   "id": "c7e0e5ce",
   "metadata": {},
   "outputs": [
    {
     "data": {
      "text/plain": [
       "[1, 'a', 1.1, 2.25]"
      ]
     },
     "execution_count": 44,
     "metadata": {},
     "output_type": "execute_result"
    }
   ],
   "source": [
    "l1"
   ]
  }
 ],
 "metadata": {
  "kernelspec": {
   "display_name": "Python 3",
   "language": "python",
   "name": "python3"
  },
  "language_info": {
   "codemirror_mode": {
    "name": "ipython",
    "version": 3
   },
   "file_extension": ".py",
   "mimetype": "text/x-python",
   "name": "python",
   "nbconvert_exporter": "python",
   "pygments_lexer": "ipython3",
   "version": "3.8.8"
  }
 },
 "nbformat": 4,
 "nbformat_minor": 5
}
